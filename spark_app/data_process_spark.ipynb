{
  "cells": [
    {
      "cell_type": "markdown",
      "metadata": {
        "id": "_wep2qMPSeH7"
      },
      "source": [
        "**Problem Statement - Implement data processing tasks using Spark DataFrame API.**"
      ]
    },
    {
      "cell_type": "code",
      "execution_count": 3,
      "metadata": {
        "id": "bADwZm5AUKzj"
      },
      "outputs": [],
      "source": [
        "import pandas as pd\n",
        "import matplotlib.pyplot as plt"
      ]
    },
    {
      "cell_type": "markdown",
      "metadata": {
        "id": "zc8bVcFgUpMD"
      },
      "source": [
        "# 1. Utilize PySpark DataFrame API for tasks like filtering, grouping, and aggregation."
      ]
    },
    {
      "cell_type": "markdown",
      "metadata": {
        "id": "wNBWcmqlUdzc"
      },
      "source": [
        "\n",
        "\n",
        "1. **Installing PySpark **:\n"
      ]
    },
    {
      "cell_type": "code",
      "execution_count": 4,
      "metadata": {
        "colab": {
          "base_uri": "https://localhost:8080/"
        },
        "id": "bLbXglPlUMZM",
        "outputId": "050ea552-a4a6-4888-88cf-63bfe8c9fae7"
      },
      "outputs": [
        {
          "output_type": "stream",
          "name": "stdout",
          "text": [
            "Requirement already satisfied: pyspark in /usr/local/lib/python3.11/dist-packages (3.5.1)\n",
            "Requirement already satisfied: py4j==0.10.9.7 in /usr/local/lib/python3.11/dist-packages (from pyspark) (0.10.9.7)\n"
          ]
        }
      ],
      "source": [
        "!pip install pyspark"
      ]
    },
    {
      "cell_type": "markdown",
      "metadata": {
        "id": "LA41nL3eUgu7"
      },
      "source": [
        "2. **Creating a Spark Session**:"
      ]
    },
    {
      "cell_type": "code",
      "execution_count": 5,
      "metadata": {
        "id": "1Y9495TQURa7"
      },
      "outputs": [],
      "source": [
        "from pyspark.sql import SparkSession\n",
        "\n",
        "# Create a SparkSession\n",
        "spark = SparkSession.builder.appName(\"SparkSession\").getOrCreate()"
      ]
    },
    {
      "cell_type": "markdown",
      "metadata": {
        "id": "6WIMS2pHUxkE"
      },
      "source": [
        "3. **Loading Dataset**:"
      ]
    },
    {
      "cell_type": "code",
      "execution_count": 6,
      "metadata": {
        "id": "ZV5yJFxqUvN6"
      },
      "outputs": [],
      "source": [
        "# Import necessary libraries\n",
        "from pyspark.sql.functions import col\n",
        "\n",
        "# Load the dataset into a DataFrame\n",
        "file_path = \"bank.csv\"\n",
        "df = spark.read.csv(file_path, header=True, inferSchema=True)"
      ]
    },
    {
      "cell_type": "code",
      "execution_count": 7,
      "metadata": {
        "colab": {
          "base_uri": "https://localhost:8080/"
        },
        "id": "UUXUktIDU1OK",
        "outputId": "2412c1b5-541f-4a17-cf02-bcfad00e68e7"
      },
      "outputs": [
        {
          "output_type": "stream",
          "name": "stdout",
          "text": [
            "root\n",
            " |-- age: integer (nullable = true)\n",
            " |-- job: string (nullable = true)\n",
            " |-- marital: string (nullable = true)\n",
            " |-- education: string (nullable = true)\n",
            " |-- default: string (nullable = true)\n",
            " |-- balance: integer (nullable = true)\n",
            " |-- housing: string (nullable = true)\n",
            " |-- loan: string (nullable = true)\n",
            " |-- contact: string (nullable = true)\n",
            " |-- day: integer (nullable = true)\n",
            " |-- month: string (nullable = true)\n",
            " |-- duration: integer (nullable = true)\n",
            " |-- campaign: integer (nullable = true)\n",
            " |-- pdays: integer (nullable = true)\n",
            " |-- previous: integer (nullable = true)\n",
            " |-- poutcome: string (nullable = true)\n",
            " |-- y: string (nullable = true)\n",
            "\n"
          ]
        }
      ],
      "source": [
        "# Show the schema of the DataFrame\n",
        "df.printSchema()"
      ]
    },
    {
      "cell_type": "code",
      "execution_count": 8,
      "metadata": {
        "colab": {
          "base_uri": "https://localhost:8080/"
        },
        "id": "wDV05aPdU1eI",
        "outputId": "d1310a54-bc1e-452f-ce4d-a67543ab14fd"
      },
      "outputs": [
        {
          "output_type": "stream",
          "name": "stdout",
          "text": [
            "+---+-------------+-------+---------+-------+-------+-------+----+--------+---+-----+--------+--------+-----+--------+--------+---+\n",
            "|age|          job|marital|education|default|balance|housing|loan| contact|day|month|duration|campaign|pdays|previous|poutcome|  y|\n",
            "+---+-------------+-------+---------+-------+-------+-------+----+--------+---+-----+--------+--------+-----+--------+--------+---+\n",
            "| 30|   unemployed|married|  primary|     no|   1787|     no|  no|cellular| 19|  oct|      79|       1|   -1|       0| unknown| no|\n",
            "| 33|     services|married|secondary|     no|   4789|    yes| yes|cellular| 11|  may|     220|       1|  339|       4| failure| no|\n",
            "| 35|   management| single| tertiary|     no|   1350|    yes|  no|cellular| 16|  apr|     185|       1|  330|       1| failure| no|\n",
            "| 30|   management|married| tertiary|     no|   1476|    yes| yes| unknown|  3|  jun|     199|       4|   -1|       0| unknown| no|\n",
            "| 59|  blue-collar|married|secondary|     no|      0|    yes|  no| unknown|  5|  may|     226|       1|   -1|       0| unknown| no|\n",
            "| 35|   management| single| tertiary|     no|    747|     no|  no|cellular| 23|  feb|     141|       2|  176|       3| failure| no|\n",
            "| 36|self-employed|married| tertiary|     no|    307|    yes|  no|cellular| 14|  may|     341|       1|  330|       2|   other| no|\n",
            "| 39|   technician|married|secondary|     no|    147|    yes|  no|cellular|  6|  may|     151|       2|   -1|       0| unknown| no|\n",
            "| 41| entrepreneur|married| tertiary|     no|    221|    yes|  no| unknown| 14|  may|      57|       2|   -1|       0| unknown| no|\n",
            "| 43|     services|married|  primary|     no|    -88|    yes| yes|cellular| 17|  apr|     313|       1|  147|       2| failure| no|\n",
            "| 39|     services|married|secondary|     no|   9374|    yes|  no| unknown| 20|  may|     273|       1|   -1|       0| unknown| no|\n",
            "| 43|       admin.|married|secondary|     no|    264|    yes|  no|cellular| 17|  apr|     113|       2|   -1|       0| unknown| no|\n",
            "| 36|   technician|married| tertiary|     no|   1109|     no|  no|cellular| 13|  aug|     328|       2|   -1|       0| unknown| no|\n",
            "| 20|      student| single|secondary|     no|    502|     no|  no|cellular| 30|  apr|     261|       1|   -1|       0| unknown|yes|\n",
            "| 31|  blue-collar|married|secondary|     no|    360|    yes| yes|cellular| 29|  jan|      89|       1|  241|       1| failure| no|\n",
            "| 40|   management|married| tertiary|     no|    194|     no| yes|cellular| 29|  aug|     189|       2|   -1|       0| unknown| no|\n",
            "| 56|   technician|married|secondary|     no|   4073|     no|  no|cellular| 27|  aug|     239|       5|   -1|       0| unknown| no|\n",
            "| 37|       admin.| single| tertiary|     no|   2317|    yes|  no|cellular| 20|  apr|     114|       1|  152|       2| failure| no|\n",
            "| 25|  blue-collar| single|  primary|     no|   -221|    yes|  no| unknown| 23|  may|     250|       1|   -1|       0| unknown| no|\n",
            "| 31|     services|married|secondary|     no|    132|     no|  no|cellular|  7|  jul|     148|       1|  152|       1|   other| no|\n",
            "+---+-------------+-------+---------+-------+-------+-------+----+--------+---+-----+--------+--------+-----+--------+--------+---+\n",
            "only showing top 20 rows\n",
            "\n"
          ]
        }
      ],
      "source": [
        "# Display the first few rows of the DataFrame\n",
        "df.show()"
      ]
    },
    {
      "cell_type": "markdown",
      "metadata": {
        "id": "gpHDwdIlU85C"
      },
      "source": [
        "**Task 1: Filtering**"
      ]
    },
    {
      "cell_type": "code",
      "execution_count": 9,
      "metadata": {
        "colab": {
          "base_uri": "https://localhost:8080/"
        },
        "id": "RNhwP2MPU5kF",
        "outputId": "3c87da57-961d-4059-913c-1e85d3dd2084"
      },
      "outputs": [
        {
          "output_type": "stream",
          "name": "stdout",
          "text": [
            "+---+------------+--------+---------+-------+-------+-------+----+---------+---+-----+--------+--------+-----+--------+--------+---+\n",
            "|age|         job| marital|education|default|balance|housing|loan|  contact|day|month|duration|campaign|pdays|previous|poutcome|  y|\n",
            "+---+------------+--------+---------+-------+-------+-------+----+---------+---+-----+--------+--------+-----+--------+--------+---+\n",
            "| 30|  unemployed| married|  primary|     no|   1787|     no|  no| cellular| 19|  oct|      79|       1|   -1|       0| unknown| no|\n",
            "| 43|    services| married|  primary|     no|    -88|    yes| yes| cellular| 17|  apr|     313|       1|  147|       2| failure| no|\n",
            "| 25| blue-collar|  single|  primary|     no|   -221|    yes|  no|  unknown| 23|  may|     250|       1|   -1|       0| unknown| no|\n",
            "| 55| blue-collar| married|  primary|     no|    627|    yes|  no|  unknown|  5|  may|     247|       1|   -1|       0| unknown| no|\n",
            "| 78|     retired|divorced|  primary|     no|    229|     no|  no|telephone| 22|  oct|      97|       1|   -1|       0| unknown|yes|\n",
            "| 55| blue-collar| married|  primary|     no|    145|     no|  no|telephone|  2|  feb|      59|       3|    5|       2|   other| no|\n",
            "| 26| blue-collar| married|  primary|     no|      0|    yes|  no|  unknown| 21|  may|     425|       1|   -1|       0| unknown| no|\n",
            "| 32|entrepreneur|  single|  primary|    yes|   -849|    yes| yes| cellular|  4|  feb|     204|       1|   -1|       0| unknown| no|\n",
            "| 45| blue-collar|divorced|  primary|     no|    844|     no|  no|  unknown|  5|  jun|    1018|       3|   -1|       0| unknown|yes|\n",
            "| 41| blue-collar| married|  primary|     no|   -516|     no| yes|telephone|  8|  jul|     554|       3|   -1|       0| unknown| no|\n",
            "| 50| blue-collar|divorced|  primary|     no|    388|     no|  no| cellular|  5|  feb|     701|       1|   -1|       0| unknown| no|\n",
            "| 60|     retired| married|  primary|     no|      5|     no|  no| cellular| 26|  aug|      63|       2|   -1|       0| unknown| no|\n",
            "| 51| blue-collar| married|  primary|     no|   1466|    yes|  no|  unknown|  7|  may|     406|       2|   -1|       0| unknown| no|\n",
            "| 35| blue-collar|  single|  primary|     no|    293|    yes|  no|  unknown| 30|  may|     521|       2|   -1|       0| unknown| no|\n",
            "| 39| blue-collar| married|  primary|     no|    111|     no|  no| cellular| 18|  nov|     201|       2|   -1|       0| unknown| no|\n",
            "| 34| blue-collar| married|  primary|     no|    455|    yes|  no|  unknown| 20|  jun|     372|       3|   -1|       0| unknown| no|\n",
            "| 31|  unemployed|  single|  primary|     no|    406|     no|  no| cellular|  4|  feb|     736|       1|   -1|       0| unknown|yes|\n",
            "| 57|    services|  single|  primary|     no|   3777|    yes|  no|telephone| 13|  may|      65|       2|   -1|       0| unknown| no|\n",
            "| 56|  unemployed| married|  primary|     no|   3391|     no|  no| cellular| 21|  apr|     243|       1|   -1|       0| unknown|yes|\n",
            "| 27|   housemaid| married|  primary|     no|      0|    yes|  no| cellular| 23|  jul|     435|       3|   -1|       0| unknown| no|\n",
            "+---+------------+--------+---------+-------+-------+-------+----+---------+---+-----+--------+--------+-----+--------+--------+---+\n",
            "only showing top 20 rows\n",
            "\n"
          ]
        }
      ],
      "source": [
        "import matplotlib.pyplot as plt\n",
        "\n",
        "# Task 1: Filtering\n",
        "# Filter the DataFrame to select rows where the 'Education' column is 'primary'\n",
        "primary_df = df.filter(col(\"education\") == \"primary\")\n",
        "primary_df.show()\n",
        "\n",
        "# Convert the filtered DataFrame to Pandas\n",
        "primary_pandas_df = primary_df.toPandas()"
      ]
    },
    {
      "cell_type": "markdown",
      "metadata": {
        "id": "SXUS7g2UU-2V"
      },
      "source": [
        "**Task 2: Grouping and Aggregation**"
      ]
    },
    {
      "cell_type": "code",
      "execution_count": 10,
      "metadata": {
        "colab": {
          "base_uri": "https://localhost:8080/",
          "height": 1000
        },
        "id": "9B-rQw2uVYy6",
        "outputId": "488359cd-105f-41b1-a4a1-e1b6779e7dbe"
      },
      "outputs": [
        {
          "output_type": "stream",
          "name": "stdout",
          "text": [
            "+--------+-------------+-------------+\n",
            "| marital|          job|sum(duration)|\n",
            "+--------+-------------+-------------+\n",
            "| married|self-employed|        29055|\n",
            "|divorced|   management|        30232|\n",
            "|divorced|self-employed|         3880|\n",
            "|  single|self-employed|        15400|\n",
            "| married| entrepreneur|        35516|\n",
            "|divorced|      unknown|          385|\n",
            "| married|       admin.|        58628|\n",
            "|divorced|       admin.|        19885|\n",
            "| married|   unemployed|        24440|\n",
            "|  single|   management|        70045|\n",
            "| married|     services|        63662|\n",
            "|  single|     services|        29541|\n",
            "| married|  blue-collar|       178968|\n",
            "|divorced|     services|        16254|\n",
            "| married|   technician|        95281|\n",
            "|divorced| entrepreneur|         6306|\n",
            "|  single|    housemaid|         5081|\n",
            "|  single|      retired|         3328|\n",
            "|  single|       admin.|        33659|\n",
            "|divorced|   technician|        20328|\n",
            "+--------+-------------+-------------+\n",
            "only showing top 20 rows\n",
            "\n"
          ]
        },
        {
          "output_type": "display_data",
          "data": {
            "text/plain": [
              "<Figure size 1200x800 with 1 Axes>"
            ],
            "image/png": "[encoded data removed]"
          },
          "metadata": {}
        }
      ],
      "source": [
        "# Task 2: Grouping and Aggregation\n",
        "# Group the DataFrame by 'marital' and 'job', then calculate the average the 'duration' for each group\n",
        "grouped_df = df.groupBy(\"marital\", \"job\").agg({\"duration\": \"sum\"})\n",
        "grouped_df.show()\n",
        "\n",
        "# Convert the grouped DataFrame to Pandas\n",
        "grouped_pandas_df = grouped_df.toPandas()\n",
        "\n",
        "# Pivot the DataFrame for easy plotting\n",
        "pivot_df = grouped_pandas_df.pivot(index='marital', columns='job', values='sum(duration)')\n",
        "\n",
        "# Plot a grouped bar chart\n",
        "ax = pivot_df.plot(kind='bar', figsize=(12, 8), rot=45)\n",
        "ax.set_xlabel('month')\n",
        "ax.set_ylabel('Sum of Campaign')\n",
        "ax.set_title('Campaign Count Grouped by housing loan  and Month')\n",
        "plt.legend(title='Month')\n",
        "plt.show()\n",
        "\n"
      ]
    },
    {
      "cell_type": "markdown",
      "metadata": {
        "id": "a4LYojCAYawu"
      },
      "source": [
        "# 3. Handle missing data and outliers using Spark's data preprocessing capabilities."
      ]
    },
    {
      "cell_type": "markdown",
      "metadata": {
        "id": "nif0uQE1fokW"
      },
      "source": [
        "1. **Fill Missing Values:**\n",
        "\n",
        "For numeric columns, you can fill missing values with mean, median, or any other statistical measure.\n"
      ]
    },
    {
      "cell_type": "code",
      "source": [
        "df.show()"
      ],
      "metadata": {
        "colab": {
          "base_uri": "https://localhost:8080/"
        },
        "id": "-S3rk5kp3217",
        "outputId": "4afce8ee-f0d0-426b-b1b1-a3f59a542d07"
      },
      "execution_count": 11,
      "outputs": [
        {
          "output_type": "stream",
          "name": "stdout",
          "text": [
            "+---+-------------+-------+---------+-------+-------+-------+----+--------+---+-----+--------+--------+-----+--------+--------+---+\n",
            "|age|          job|marital|education|default|balance|housing|loan| contact|day|month|duration|campaign|pdays|previous|poutcome|  y|\n",
            "+---+-------------+-------+---------+-------+-------+-------+----+--------+---+-----+--------+--------+-----+--------+--------+---+\n",
            "| 30|   unemployed|married|  primary|     no|   1787|     no|  no|cellular| 19|  oct|      79|       1|   -1|       0| unknown| no|\n",
            "| 33|     services|married|secondary|     no|   4789|    yes| yes|cellular| 11|  may|     220|       1|  339|       4| failure| no|\n",
            "| 35|   management| single| tertiary|     no|   1350|    yes|  no|cellular| 16|  apr|     185|       1|  330|       1| failure| no|\n",
            "| 30|   management|married| tertiary|     no|   1476|    yes| yes| unknown|  3|  jun|     199|       4|   -1|       0| unknown| no|\n",
            "| 59|  blue-collar|married|secondary|     no|      0|    yes|  no| unknown|  5|  may|     226|       1|   -1|       0| unknown| no|\n",
            "| 35|   management| single| tertiary|     no|    747|     no|  no|cellular| 23|  feb|     141|       2|  176|       3| failure| no|\n",
            "| 36|self-employed|married| tertiary|     no|    307|    yes|  no|cellular| 14|  may|     341|       1|  330|       2|   other| no|\n",
            "| 39|   technician|married|secondary|     no|    147|    yes|  no|cellular|  6|  may|     151|       2|   -1|       0| unknown| no|\n",
            "| 41| entrepreneur|married| tertiary|     no|    221|    yes|  no| unknown| 14|  may|      57|       2|   -1|       0| unknown| no|\n",
            "| 43|     services|married|  primary|     no|    -88|    yes| yes|cellular| 17|  apr|     313|       1|  147|       2| failure| no|\n",
            "| 39|     services|married|secondary|     no|   9374|    yes|  no| unknown| 20|  may|     273|       1|   -1|       0| unknown| no|\n",
            "| 43|       admin.|married|secondary|     no|    264|    yes|  no|cellular| 17|  apr|     113|       2|   -1|       0| unknown| no|\n",
            "| 36|   technician|married| tertiary|     no|   1109|     no|  no|cellular| 13|  aug|     328|       2|   -1|       0| unknown| no|\n",
            "| 20|      student| single|secondary|     no|    502|     no|  no|cellular| 30|  apr|     261|       1|   -1|       0| unknown|yes|\n",
            "| 31|  blue-collar|married|secondary|     no|    360|    yes| yes|cellular| 29|  jan|      89|       1|  241|       1| failure| no|\n",
            "| 40|   management|married| tertiary|     no|    194|     no| yes|cellular| 29|  aug|     189|       2|   -1|       0| unknown| no|\n",
            "| 56|   technician|married|secondary|     no|   4073|     no|  no|cellular| 27|  aug|     239|       5|   -1|       0| unknown| no|\n",
            "| 37|       admin.| single| tertiary|     no|   2317|    yes|  no|cellular| 20|  apr|     114|       1|  152|       2| failure| no|\n",
            "| 25|  blue-collar| single|  primary|     no|   -221|    yes|  no| unknown| 23|  may|     250|       1|   -1|       0| unknown| no|\n",
            "| 31|     services|married|secondary|     no|    132|     no|  no|cellular|  7|  jul|     148|       1|  152|       1|   other| no|\n",
            "+---+-------------+-------+---------+-------+-------+-------+----+--------+---+-----+--------+--------+-----+--------+--------+---+\n",
            "only showing top 20 rows\n",
            "\n"
          ]
        }
      ]
    },
    {
      "cell_type": "code",
      "source": [
        "# find missing values using pyspark\n",
        "from pyspark.sql.functions import col,isnan, when, count\n",
        "\n",
        "df.select([count(when(isnan(c) | col(c).isNull(), c)).alias(c) for c in df.columns]\n",
        "   ).show()"
      ],
      "metadata": {
        "colab": {
          "base_uri": "https://localhost:8080/"
        },
        "id": "iDYRfc4S37GB",
        "outputId": "765e8bb6-2256-48eb-f468-a4d4100d2d3f"
      },
      "execution_count": 12,
      "outputs": [
        {
          "output_type": "stream",
          "name": "stdout",
          "text": [
            "+---+---+-------+---------+-------+-------+-------+----+-------+---+-----+--------+--------+-----+--------+--------+---+\n",
            "|age|job|marital|education|default|balance|housing|loan|contact|day|month|duration|campaign|pdays|previous|poutcome|  y|\n",
            "+---+---+-------+---------+-------+-------+-------+----+-------+---+-----+--------+--------+-----+--------+--------+---+\n",
            "|  0|  0|      0|        0|      0|      0|      0|   0|      0|  0|    0|       0|       0|    0|       0|       0|  0|\n",
            "+---+---+-------+---------+-------+-------+-------+----+-------+---+-----+--------+--------+-----+--------+--------+---+\n",
            "\n"
          ]
        }
      ]
    },
    {
      "cell_type": "markdown",
      "source": [
        "## Implement a Classification AI Model using Spark"
      ],
      "metadata": {
        "id": "lBuQjGTPCJy7"
      }
    },
    {
      "cell_type": "code",
      "source": [
        "# import pyspark ml\n",
        "from pyspark.ml.feature import VectorAssembler\n",
        "from pyspark.ml.classification import RandomForestClassifier\n",
        "from pyspark.ml.evaluation import MulticlassClassificationEvaluator\n"
      ],
      "metadata": {
        "id": "eFGakBj7CbLB"
      },
      "execution_count": 13,
      "outputs": []
    },
    {
      "cell_type": "code",
      "source": [
        "# train test split\n",
        "train_df, test_df = df.randomSplit([0.7, 0.3], seed=42)\n",
        "# train the random forest classifier\n"
      ],
      "metadata": {
        "id": "QuUFsXerCqcb"
      },
      "execution_count": 15,
      "outputs": []
    },
    {
      "cell_type": "markdown",
      "metadata": {
        "id": "0b454c17"
      },
      "source": [
        "# Task\n",
        "Use spark ml randomforestclassifier to train the model with train_df and test_df. Explain the selected code. Explain the error in the selected code. If possible, fix the error and incorporate the changes into the existing code. Otherwise, try to diagnose the error."
      ]
    },
    {
      "cell_type": "markdown",
      "metadata": {
        "id": "e61ad94e"
      },
      "source": [
        "## Identify categorical columns\n",
        "\n",
        "### Subtask:\n",
        "Determine which columns in the DataFrame are of string type and need to be converted.\n"
      ]
    },
    {
      "cell_type": "markdown",
      "metadata": {
        "id": "ab29586b"
      },
      "source": [
        "**Reasoning**:\n",
        "Iterate through the columns and check their data types to identify string columns.\n",
        "\n"
      ]
    },
    {
      "cell_type": "code",
      "metadata": {
        "colab": {
          "base_uri": "https://localhost:8080/"
        },
        "id": "07a6fb1b",
        "outputId": "fb882e48-6b69-4b46-9ac9-8f9a053f6f43"
      },
      "source": [
        "string_cols = [col_name for col_name, col_type in df.dtypes if col_type == 'string']\n",
        "print(\"String columns:\", string_cols)"
      ],
      "execution_count": 17,
      "outputs": [
        {
          "output_type": "stream",
          "name": "stdout",
          "text": [
            "String columns: ['job', 'marital', 'education', 'default', 'housing', 'loan', 'contact', 'month', 'poutcome', 'y']\n"
          ]
        }
      ]
    },
    {
      "cell_type": "markdown",
      "metadata": {
        "id": "47c996ba"
      },
      "source": [
        "## Apply string indexing\n",
        "\n",
        "### Subtask:\n",
        "Use `StringIndexer` to convert each categorical string column into a numerical index column.\n"
      ]
    },
    {
      "cell_type": "markdown",
      "metadata": {
        "id": "1e443bea"
      },
      "source": [
        "**Reasoning**:\n",
        "Convert the categorical string columns to numerical indices using StringIndexer as identified in the previous step.\n",
        "\n"
      ]
    },
    {
      "cell_type": "code",
      "metadata": {
        "colab": {
          "base_uri": "https://localhost:8080/"
        },
        "id": "8632d5fe",
        "outputId": "a4912dec-4fb6-4cac-b46f-f66101f90634"
      },
      "source": [
        "from pyspark.ml.feature import StringIndexer\n",
        "\n",
        "string_cols = [col_name for col_name, col_type in df.dtypes if col_type == 'string']\n",
        "indexed_cols = [col_name + \"_indexed\" for col_name in string_cols]\n",
        "\n",
        "indexer = StringIndexer(inputCols=string_cols, outputCols=indexed_cols)\n",
        "indexed_df = indexer.fit(df).transform(df)\n",
        "\n",
        "indexed_df.printSchema()"
      ],
      "execution_count": 18,
      "outputs": [
        {
          "output_type": "stream",
          "name": "stdout",
          "text": [
            "root\n",
            " |-- age: integer (nullable = true)\n",
            " |-- job: string (nullable = true)\n",
            " |-- marital: string (nullable = true)\n",
            " |-- education: string (nullable = true)\n",
            " |-- default: string (nullable = true)\n",
            " |-- balance: integer (nullable = true)\n",
            " |-- housing: string (nullable = true)\n",
            " |-- loan: string (nullable = true)\n",
            " |-- contact: string (nullable = true)\n",
            " |-- day: integer (nullable = true)\n",
            " |-- month: string (nullable = true)\n",
            " |-- duration: integer (nullable = true)\n",
            " |-- campaign: integer (nullable = true)\n",
            " |-- pdays: integer (nullable = true)\n",
            " |-- previous: integer (nullable = true)\n",
            " |-- poutcome: string (nullable = true)\n",
            " |-- y: string (nullable = true)\n",
            " |-- job_indexed: double (nullable = false)\n",
            " |-- marital_indexed: double (nullable = false)\n",
            " |-- education_indexed: double (nullable = false)\n",
            " |-- default_indexed: double (nullable = false)\n",
            " |-- housing_indexed: double (nullable = false)\n",
            " |-- loan_indexed: double (nullable = false)\n",
            " |-- contact_indexed: double (nullable = false)\n",
            " |-- month_indexed: double (nullable = false)\n",
            " |-- poutcome_indexed: double (nullable = false)\n",
            " |-- y_indexed: double (nullable = false)\n",
            "\n"
          ]
        }
      ]
    },
    {
      "cell_type": "markdown",
      "metadata": {
        "id": "3aa411fc"
      },
      "source": [
        "## Apply one-hot encoding\n",
        "\n",
        "### Subtask:\n",
        "Use `OneHotEncoder` to convert the indexed columns into one-hot encoded vector columns.\n"
      ]
    },
    {
      "cell_type": "markdown",
      "metadata": {
        "id": "b0b5be30"
      },
      "source": [
        "**Reasoning**:\n",
        "Import OneHotEncoder and apply it to the indexed columns to create one-hot encoded vector columns as per the instructions.\n",
        "\n"
      ]
    },
    {
      "cell_type": "code",
      "metadata": {
        "colab": {
          "base_uri": "https://localhost:8080/"
        },
        "id": "49efd1f7",
        "outputId": "2b439420-030a-4942-cc58-9ea7e5a527e4"
      },
      "source": [
        "from pyspark.ml.feature import OneHotEncoder\n",
        "\n",
        "indexed_cols = [col_name + \"_indexed\" for col_name, col_type in df.dtypes if col_type == 'string']\n",
        "encoded_cols = [col_name + \"_vec\" for col_name in indexed_cols]\n",
        "\n",
        "encoder = OneHotEncoder(inputCols=indexed_cols, outputCols=encoded_cols)\n",
        "encoded_df = encoder.fit(indexed_df).transform(indexed_df)\n",
        "\n",
        "encoded_df.printSchema()"
      ],
      "execution_count": 19,
      "outputs": [
        {
          "output_type": "stream",
          "name": "stdout",
          "text": [
            "root\n",
            " |-- age: integer (nullable = true)\n",
            " |-- job: string (nullable = true)\n",
            " |-- marital: string (nullable = true)\n",
            " |-- education: string (nullable = true)\n",
            " |-- default: string (nullable = true)\n",
            " |-- balance: integer (nullable = true)\n",
            " |-- housing: string (nullable = true)\n",
            " |-- loan: string (nullable = true)\n",
            " |-- contact: string (nullable = true)\n",
            " |-- day: integer (nullable = true)\n",
            " |-- month: string (nullable = true)\n",
            " |-- duration: integer (nullable = true)\n",
            " |-- campaign: integer (nullable = true)\n",
            " |-- pdays: integer (nullable = true)\n",
            " |-- previous: integer (nullable = true)\n",
            " |-- poutcome: string (nullable = true)\n",
            " |-- y: string (nullable = true)\n",
            " |-- job_indexed: double (nullable = false)\n",
            " |-- marital_indexed: double (nullable = false)\n",
            " |-- education_indexed: double (nullable = false)\n",
            " |-- default_indexed: double (nullable = false)\n",
            " |-- housing_indexed: double (nullable = false)\n",
            " |-- loan_indexed: double (nullable = false)\n",
            " |-- contact_indexed: double (nullable = false)\n",
            " |-- month_indexed: double (nullable = false)\n",
            " |-- poutcome_indexed: double (nullable = false)\n",
            " |-- y_indexed: double (nullable = false)\n",
            " |-- job_indexed_vec: vector (nullable = true)\n",
            " |-- marital_indexed_vec: vector (nullable = true)\n",
            " |-- education_indexed_vec: vector (nullable = true)\n",
            " |-- default_indexed_vec: vector (nullable = true)\n",
            " |-- housing_indexed_vec: vector (nullable = true)\n",
            " |-- loan_indexed_vec: vector (nullable = true)\n",
            " |-- contact_indexed_vec: vector (nullable = true)\n",
            " |-- month_indexed_vec: vector (nullable = true)\n",
            " |-- poutcome_indexed_vec: vector (nullable = true)\n",
            " |-- y_indexed_vec: vector (nullable = true)\n",
            "\n"
          ]
        }
      ]
    },
    {
      "cell_type": "markdown",
      "metadata": {
        "id": "0eebd0b2"
      },
      "source": [
        "## Update vectorassembler\n",
        "\n",
        "### Subtask:\n",
        "Include the newly created one-hot encoded columns in the `VectorAssembler` input columns.\n"
      ]
    },
    {
      "cell_type": "markdown",
      "metadata": {
        "id": "6ef15061"
      },
      "source": [
        "**Reasoning**:\n",
        "Identify the numerical and one-hot encoded columns and update the VectorAssembler.\n",
        "\n"
      ]
    },
    {
      "cell_type": "code",
      "metadata": {
        "colab": {
          "base_uri": "https://localhost:8080/"
        },
        "id": "wLafU3BnFI_K",
        "outputId": "f0f906ff-f12f-4d59-8421-0b9768dde8df"
      },
      "source": [
        "# Apply the assembler transformation to the encoded_df\n",
        "assembled_df = assembler.transform(encoded_df)\n",
        "\n",
        "# Split the assembled_df into training and testing sets\n",
        "train_data, test_data = assembled_df.randomSplit([0.7, 0.3], seed=42)\n",
        "\n",
        "train_data.printSchema()\n",
        "test_data.printSchema()"
      ],
      "execution_count": 24,
      "outputs": [
        {
          "output_type": "stream",
          "name": "stdout",
          "text": [
            "root\n",
            " |-- age: integer (nullable = true)\n",
            " |-- job: string (nullable = true)\n",
            " |-- marital: string (nullable = true)\n",
            " |-- education: string (nullable = true)\n",
            " |-- default: string (nullable = true)\n",
            " |-- balance: integer (nullable = true)\n",
            " |-- housing: string (nullable = true)\n",
            " |-- loan: string (nullable = true)\n",
            " |-- contact: string (nullable = true)\n",
            " |-- day: integer (nullable = true)\n",
            " |-- month: string (nullable = true)\n",
            " |-- duration: integer (nullable = true)\n",
            " |-- campaign: integer (nullable = true)\n",
            " |-- pdays: integer (nullable = true)\n",
            " |-- previous: integer (nullable = true)\n",
            " |-- poutcome: string (nullable = true)\n",
            " |-- y: string (nullable = true)\n",
            " |-- job_indexed: double (nullable = false)\n",
            " |-- marital_indexed: double (nullable = false)\n",
            " |-- education_indexed: double (nullable = false)\n",
            " |-- default_indexed: double (nullable = false)\n",
            " |-- housing_indexed: double (nullable = false)\n",
            " |-- loan_indexed: double (nullable = false)\n",
            " |-- contact_indexed: double (nullable = false)\n",
            " |-- month_indexed: double (nullable = false)\n",
            " |-- poutcome_indexed: double (nullable = false)\n",
            " |-- y_indexed: double (nullable = false)\n",
            " |-- job_indexed_vec: vector (nullable = true)\n",
            " |-- marital_indexed_vec: vector (nullable = true)\n",
            " |-- education_indexed_vec: vector (nullable = true)\n",
            " |-- default_indexed_vec: vector (nullable = true)\n",
            " |-- housing_indexed_vec: vector (nullable = true)\n",
            " |-- loan_indexed_vec: vector (nullable = true)\n",
            " |-- contact_indexed_vec: vector (nullable = true)\n",
            " |-- month_indexed_vec: vector (nullable = true)\n",
            " |-- poutcome_indexed_vec: vector (nullable = true)\n",
            " |-- y_indexed_vec: vector (nullable = true)\n",
            " |-- features: vector (nullable = true)\n",
            "\n",
            "root\n",
            " |-- age: integer (nullable = true)\n",
            " |-- job: string (nullable = true)\n",
            " |-- marital: string (nullable = true)\n",
            " |-- education: string (nullable = true)\n",
            " |-- default: string (nullable = true)\n",
            " |-- balance: integer (nullable = true)\n",
            " |-- housing: string (nullable = true)\n",
            " |-- loan: string (nullable = true)\n",
            " |-- contact: string (nullable = true)\n",
            " |-- day: integer (nullable = true)\n",
            " |-- month: string (nullable = true)\n",
            " |-- duration: integer (nullable = true)\n",
            " |-- campaign: integer (nullable = true)\n",
            " |-- pdays: integer (nullable = true)\n",
            " |-- previous: integer (nullable = true)\n",
            " |-- poutcome: string (nullable = true)\n",
            " |-- y: string (nullable = true)\n",
            " |-- job_indexed: double (nullable = false)\n",
            " |-- marital_indexed: double (nullable = false)\n",
            " |-- education_indexed: double (nullable = false)\n",
            " |-- default_indexed: double (nullable = false)\n",
            " |-- housing_indexed: double (nullable = false)\n",
            " |-- loan_indexed: double (nullable = false)\n",
            " |-- contact_indexed: double (nullable = false)\n",
            " |-- month_indexed: double (nullable = false)\n",
            " |-- poutcome_indexed: double (nullable = false)\n",
            " |-- y_indexed: double (nullable = false)\n",
            " |-- job_indexed_vec: vector (nullable = true)\n",
            " |-- marital_indexed_vec: vector (nullable = true)\n",
            " |-- education_indexed_vec: vector (nullable = true)\n",
            " |-- default_indexed_vec: vector (nullable = true)\n",
            " |-- housing_indexed_vec: vector (nullable = true)\n",
            " |-- loan_indexed_vec: vector (nullable = true)\n",
            " |-- contact_indexed_vec: vector (nullable = true)\n",
            " |-- month_indexed_vec: vector (nullable = true)\n",
            " |-- poutcome_indexed_vec: vector (nullable = true)\n",
            " |-- y_indexed_vec: vector (nullable = true)\n",
            " |-- features: vector (nullable = true)\n",
            "\n"
          ]
        }
      ]
    },
    {
      "cell_type": "markdown",
      "metadata": {
        "id": "5cfc3c78"
      },
      "source": [
        "## Train the model\n",
        "\n",
        "### Subtask:\n",
        "Retrain the RandomForestClassifier with the transformed data.\n"
      ]
    },
    {
      "cell_type": "markdown",
      "metadata": {
        "id": "0adf1f87"
      },
      "source": [
        "**Reasoning**:\n",
        "Retrain the RandomForestClassifier model with the transformed data.\n",
        "\n"
      ]
    },
    {
      "cell_type": "code",
      "metadata": {
        "colab": {
          "base_uri": "https://localhost:8080/"
        },
        "id": "6172ea95",
        "outputId": "3863dc3a-3de9-46d6-bd16-08489061334f"
      },
      "source": [
        "# Initialize and train the RandomForestClassifier model\n",
        "# Use 'y_indexed' as the label column as it's the numerical representation of the target variable\n",
        "rf_model = RandomForestClassifier(labelCol=\"y_indexed\", featuresCol=\"features\", numTrees=10)\n",
        "rf_model = rf_model.fit(train_data)\n",
        "\n",
        "# Make predictions on the test data\n",
        "predictions = rf_model.transform(test_data)\n",
        "\n",
        "# Evaluate the model\n",
        "# Use 'y_indexed' as the label column for evaluation\n",
        "evaluator = MulticlassClassificationEvaluator(labelCol=\"y_indexed\", predictionCol=\"prediction\", metricName=\"accuracy\")\n",
        "accuracy = evaluator.evaluate(predictions)\n",
        "\n",
        "print(f\"Test Accuracy = {accuracy}\")"
      ],
      "execution_count": 22,
      "outputs": [
        {
          "output_type": "stream",
          "name": "stdout",
          "text": [
            "Test Accuracy = 0.9968944099378882\n"
          ]
        }
      ]
    },
    {
      "cell_type": "markdown",
      "metadata": {
        "id": "96f01a31"
      },
      "source": [
        "## Summary:\n",
        "\n",
        "### Data Analysis Key Findings\n",
        "\n",
        "*   The categorical string columns in the dataset were identified as: `job`, `marital`, `education`, `default`, `housing`, `loan`, `contact`, `month`, `poutcome`, and `y`.\n",
        "*   These string columns were successfully converted into numerical indexed columns using `StringIndexer`, adding columns with a `_indexed` suffix (e.g., `job_indexed`).\n",
        "*   The indexed columns were further transformed into one-hot encoded vector columns using `OneHotEncoder`, resulting in columns with a `_vec` suffix (e.g., `job_indexed_vec`).\n",
        "*   The `VectorAssembler` was updated to include both the numerical columns and the newly created one-hot encoded vector columns as features.\n",
        "*   The data was successfully split into training and testing sets *after* applying the `VectorAssembler` transformation to the DataFrame containing the one-hot encoded features.\n",
        "*   A `RandomForestClassifier` model was initialized with `y_indexed` as the label column and `features` as the features column.\n",
        "*   The model was successfully trained on the `train_data` and used to make predictions on the `test_data`.\n",
        "*   The model's performance was evaluated using `MulticlassClassificationEvaluator`, yielding a test accuracy of approximately 0.997.\n",
        "\n",
        "### Insights or Next Steps\n",
        "\n",
        "*   The high accuracy suggests the model is performing very well on the test set; further investigation into potential overfitting or evaluation with different metrics (like precision, recall, F1-score) on a validation set would be beneficial.\n",
        "*   Consider exploring hyperparameter tuning for the `RandomForestClassifier` (e.g., `numTrees`, `maxDepth`, `maxBins`) to potentially improve performance further or address overfitting.\n"
      ]
    }
  ],
  "metadata": {
    "colab": {
      "provenance": []
    },
    "kernelspec": {
      "display_name": ".venv",
      "language": "python",
      "name": "python3"
    },
    "language_info": {
      "codemirror_mode": {
        "name": "ipython",
        "version": 3
      },
      "file_extension": ".py",
      "mimetype": "text/x-python",
      "name": "python",
      "nbconvert_exporter": "python",
      "pygments_lexer": "ipython3",
      "version": "3.10.12"
    }
  },
  "nbformat": 4,
  "nbformat_minor": 0
}